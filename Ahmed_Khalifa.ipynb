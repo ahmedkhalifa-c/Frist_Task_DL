{
  "nbformat": 4,
  "nbformat_minor": 0,
  "metadata": {
    "colab": {
      "provenance": [],
      "gpuType": "T4"
    },
    "kernelspec": {
      "name": "python3",
      "display_name": "Python 3"
    },
    "language_info": {
      "name": "python"
    },
    "accelerator": "GPU"
  },
  "cells": [
    {
      "cell_type": "code",
      "execution_count": null,
      "metadata": {
        "colab": {
          "base_uri": "https://localhost:8080/"
        },
        "id": "g_o2pACiS3AY",
        "outputId": "9777c2b9-b108-4b9d-ae1e-919e57ef78f3"
      },
      "outputs": [
        {
          "output_type": "execute_result",
          "data": {
            "text/plain": [
              "(tensor([[0.1502, 0.8061, 0.5986, 0.6137, 0.4944, 0.4821, 0.8980],\n",
              "         [0.8783, 0.3096, 0.6928, 0.5916, 0.2240, 0.8532, 0.4727],\n",
              "         [0.2291, 0.8146, 0.3765, 0.1101, 0.1087, 0.9415, 0.2471],\n",
              "         [0.5472, 0.3917, 0.2688, 0.2406, 0.0840, 0.4176, 0.3971],\n",
              "         [0.9735, 0.8745, 0.2873, 0.5344, 0.9074, 0.6754, 0.6346],\n",
              "         [0.3491, 0.4104, 0.9237, 0.3811, 0.7717, 0.6615, 0.1049],\n",
              "         [0.7959, 0.7807, 0.5776, 0.8842, 0.0560, 0.4856, 0.9978]]),\n",
              " torch.float32)"
            ]
          },
          "metadata": {},
          "execution_count": 4
        }
      ],
      "source": [
        "# Import torch\n",
        "import torch\n",
        "from torch import nn # nn contains all of PyTorch's building blocks for neural networks\n",
        "import matplotlib.pyplot as plt\n",
        "\n",
        "# Check PyTorch version\n",
        "torch.__version__\n",
        "\n",
        "# Create random tensor\n",
        "A = torch.rand(size=(7, 7))\n",
        "A, A.dtype\n"
      ]
    },
    {
      "cell_type": "code",
      "source": [
        "# Create another random tensor\n",
        "B = torch.rand(size=(1, 7))\n",
        "print(B, B.dtype)\n",
        "\n",
        "print(50*'##')\n",
        "# Perform matrix multiplication\n",
        "torch.matmul(B,A)"
      ],
      "metadata": {
        "colab": {
          "base_uri": "https://localhost:8080/"
        },
        "id": "jULf1WpAS7on",
        "outputId": "6a177aa2-91d4-4726-f532-b09ea2e9ece6"
      },
      "execution_count": null,
      "outputs": [
        {
          "output_type": "stream",
          "name": "stdout",
          "text": [
            "tensor([[0.1893, 0.6818, 0.2158, 0.2395, 0.8381, 0.6659, 0.2805]]) torch.float32\n",
            "####################################################################################################\n"
          ]
        },
        {
          "output_type": "execute_result",
          "data": {
            "text/plain": [
              "tensor([[2.0793, 1.8585, 1.7492, 1.5506, 1.5800, 2.1190, 1.5223]])"
            ]
          },
          "metadata": {},
          "execution_count": 5
        }
      ]
    },
    {
      "cell_type": "code",
      "source": [
        "# Set manual seed\n",
        "\n",
        "torch.manual_seed(0)\n",
        "\n",
        "\n",
        "\n",
        "# Create two random tensors\n",
        "A = torch.rand(7, 7)\n",
        "B = torch.rand(1, 7)\n",
        "\n",
        "\n",
        "# Matrix multiply tensors\n",
        "\n",
        "result = torch.matmul(A, B.T)\n",
        "\n",
        "print(result, result.shape)\n"
      ],
      "metadata": {
        "colab": {
          "base_uri": "https://localhost:8080/"
        },
        "id": "bHkJAfGUTHXd",
        "outputId": "ce03ee87-0cd1-4659-8620-82d593638799"
      },
      "execution_count": null,
      "outputs": [
        {
          "output_type": "stream",
          "name": "stdout",
          "text": [
            "tensor([[1.8542],\n",
            "        [1.9611],\n",
            "        [2.2884],\n",
            "        [3.0481],\n",
            "        [1.7067],\n",
            "        [2.5290],\n",
            "        [1.7989]]) torch.Size([7, 1])\n"
          ]
        }
      ]
    },
    {
      "cell_type": "code",
      "source": [
        "\n",
        "torch.cuda.manual_seed(1234)\n",
        "\n",
        "if torch.cuda.is_available():\n",
        "    device = \"cuda\"\n",
        "elif torch.backends.mps.is_available():\n",
        "    device = \"mps\"\n",
        "else:\n",
        "    device = \"cpu\"\n",
        "\n",
        "\n",
        "print(device)\n"
      ],
      "metadata": {
        "colab": {
          "base_uri": "https://localhost:8080/"
        },
        "id": "U4Zb_-5KTKeO",
        "outputId": "8900be4e-0a57-41c6-9206-22e84d0dee10"
      },
      "execution_count": null,
      "outputs": [
        {
          "output_type": "stream",
          "name": "stdout",
          "text": [
            "cuda\n"
          ]
        }
      ]
    },
    {
      "cell_type": "code",
      "source": [],
      "metadata": {
        "id": "xK-bDfMWTNR1"
      },
      "execution_count": null,
      "outputs": []
    },
    {
      "cell_type": "code",
      "source": [
        "torch.manual_seed(1234)\n",
        "\n",
        "# # Set random seed\n",
        "\n",
        "tensor1 = torch.rand(2, 3)\n",
        "tensor2 = torch.rand(2, 3)\n",
        "\n",
        "# # Check for access to GPU\n",
        "\n",
        "if torch.cuda.is_available():\n",
        "    device = torch.device(\"cuda\")\n",
        "    tensor1 = tensor1.to(device)\n",
        "    tensor2 = tensor2.to(device)\n",
        "    print(\"Device:\", device)\n",
        "else:\n",
        "    device = torch.device(\"cpu\")\n",
        "    print(\" CUDA not available, using CPU\")\n",
        "# Create two random tensors on GPU\n",
        "\n",
        "print(tensor1, tensor2)\n",
        "\n"
      ],
      "metadata": {
        "colab": {
          "base_uri": "https://localhost:8080/"
        },
        "id": "fhpYVDp-WdQC",
        "outputId": "3539970f-6ab0-4fae-90bb-bc805eb618ab"
      },
      "execution_count": null,
      "outputs": [
        {
          "output_type": "stream",
          "name": "stdout",
          "text": [
            "Device: cuda\n",
            "tensor([[0.0290, 0.4019, 0.2598],\n",
            "        [0.3666, 0.0583, 0.7006]], device='cuda:0') tensor([[0.0518, 0.4681, 0.6738],\n",
            "        [0.3315, 0.7837, 0.5631]], device='cuda:0')\n"
          ]
        }
      ]
    },
    {
      "cell_type": "code",
      "source": [
        "# Perform matmul on tensor_A and tensor_B\n",
        "\n",
        "tensor2_T = tensor2.T\n",
        "\n",
        "result = torch.matmul(tensor1, tensor2_T)\n",
        "\n",
        "print(result, result.shape)"
      ],
      "metadata": {
        "colab": {
          "base_uri": "https://localhost:8080/"
        },
        "id": "aLFhpTeqWk0J",
        "outputId": "28582d45-31be-4a4b-b296-1751b86be2e3"
      },
      "execution_count": null,
      "outputs": [
        {
          "output_type": "stream",
          "name": "stdout",
          "text": [
            "tensor([[0.3647, 0.4709],\n",
            "        [0.5184, 0.5617]], device='cuda:0') torch.Size([2, 2])\n"
          ]
        }
      ]
    },
    {
      "cell_type": "code",
      "source": [
        "# Find max\n",
        "print(f\"Minimum: {result.min()}\")\n",
        "# Find min\n",
        "print(f\"Maximum: {result.max()}\")\n",
        "\n"
      ],
      "metadata": {
        "colab": {
          "base_uri": "https://localhost:8080/"
        },
        "id": "mqZyWPG4ZQV3",
        "outputId": "fd3cd4c4-0f42-49d0-c3fc-7a007c8bca8a"
      },
      "execution_count": null,
      "outputs": [
        {
          "output_type": "stream",
          "name": "stdout",
          "text": [
            "Minimum: 0.3647301495075226\n",
            "Maximum: 0.5617256760597229\n"
          ]
        }
      ]
    },
    {
      "cell_type": "code",
      "source": [
        "# Find arg max\n",
        "print(f\"Index where max value occurs: {result.argmax()}\")\n",
        "#Find arg min\n",
        "print(f\"Index where min value occurs: {result.argmin()}\")"
      ],
      "metadata": {
        "colab": {
          "base_uri": "https://localhost:8080/"
        },
        "id": "KvveGO8hZWpF",
        "outputId": "acc895b3-ef48-438b-e742-6b8076e0673d"
      },
      "execution_count": null,
      "outputs": [
        {
          "output_type": "stream",
          "name": "stdout",
          "text": [
            "Index where max value occurs: 3\n",
            "Index where min value occurs: 0\n"
          ]
        }
      ]
    },
    {
      "cell_type": "code",
      "source": [
        "# Set seed\n",
        "torch.manual_seed(7)\n",
        "\n",
        "# Create random tensor\n",
        "\n",
        "tensor = torch.rand(1, 1, 1, 10)\n",
        "print(tensor, tensor.shape)\n",
        "# Remove single dimensions\n",
        "tensor_squeezed = tensor.squeeze()\n",
        "\n",
        "# Print out tensors and their shapes\n",
        "print(tensor_squeezed, tensor_squeezed.shape)"
      ],
      "metadata": {
        "colab": {
          "base_uri": "https://localhost:8080/"
        },
        "id": "YYBOf6AIZX3-",
        "outputId": "a94db19d-7d17-4067-eea3-454884a6fdb0"
      },
      "execution_count": null,
      "outputs": [
        {
          "output_type": "stream",
          "name": "stdout",
          "text": [
            "tensor([[[[0.5349, 0.1988, 0.6592, 0.6569, 0.2328, 0.4251, 0.2071, 0.6297,\n",
            "           0.3653, 0.8513]]]]) torch.Size([1, 1, 1, 10])\n",
            "tensor([0.5349, 0.1988, 0.6592, 0.6569, 0.2328, 0.4251, 0.2071, 0.6297, 0.3653,\n",
            "        0.8513]) torch.Size([10])\n"
          ]
        }
      ]
    },
    {
      "cell_type": "code",
      "source": [],
      "metadata": {
        "id": "zuEVy49sZoM4"
      },
      "execution_count": null,
      "outputs": []
    }
  ]
}